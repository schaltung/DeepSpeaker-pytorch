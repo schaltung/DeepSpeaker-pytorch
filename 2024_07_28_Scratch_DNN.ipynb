{
  "nbformat": 4,
  "nbformat_minor": 0,
  "metadata": {
    "colab": {
      "provenance": [],
      "authorship_tag": "ABX9TyPWh5NbIdoR+FvHewGhVs9g",
      "include_colab_link": true
    },
    "kernelspec": {
      "name": "python3",
      "display_name": "Python 3"
    },
    "language_info": {
      "name": "python"
    }
  },
  "cells": [
    {
      "cell_type": "markdown",
      "metadata": {
        "id": "view-in-github",
        "colab_type": "text"
      },
      "source": [
        "<a href=\"https://colab.research.google.com/github/schaltung/DeepSpeaker-pytorch/blob/master/2024_07_28_Scratch_DNN.ipynb\" target=\"_parent\"><img src=\"https://colab.research.google.com/assets/colab-badge.svg\" alt=\"Open In Colab\"/></a>"
      ]
    },
    {
      "cell_type": "code",
      "execution_count": 1,
      "metadata": {
        "colab": {
          "base_uri": "https://localhost:8080/"
        },
        "id": "rMfHkS9t_6QT",
        "outputId": "d4eb234a-23fd-4d35-83a5-cfc97e8f992c"
      },
      "outputs": [
        {
          "output_type": "stream",
          "name": "stdout",
          "text": [
            "hello world\n"
          ]
        }
      ],
      "source": [
        "# prompt: hello world\n",
        "\n",
        "print(\"hello world\")\n"
      ]
    },
    {
      "cell_type": "markdown",
      "source": [
        "# Find some data to pre-train or finetune with\n",
        "Maybe find an existing model to play with. An existing model is always a good ideas because it can handle the diveristy of acoustic conditions.\n"
      ],
      "metadata": {
        "id": "D8ZFDgQAASv8"
      }
    },
    {
      "cell_type": "code",
      "source": [],
      "metadata": {
        "id": "kg8jDam1AjOA"
      },
      "execution_count": null,
      "outputs": []
    }
  ]
}